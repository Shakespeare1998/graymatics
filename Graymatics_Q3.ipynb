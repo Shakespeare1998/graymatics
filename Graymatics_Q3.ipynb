{
  "nbformat": 4,
  "nbformat_minor": 0,
  "metadata": {
    "colab": {
      "provenance": [],
      "authorship_tag": "ABX9TyPyvuPiS0eRHiV2ExS9dpEt",
      "include_colab_link": true
    },
    "kernelspec": {
      "name": "python3",
      "display_name": "Python 3"
    },
    "language_info": {
      "name": "python"
    }
  },
  "cells": [
    {
      "cell_type": "markdown",
      "metadata": {
        "id": "view-in-github",
        "colab_type": "text"
      },
      "source": [
        "<a href=\"https://colab.research.google.com/github/Shakespeare1998/graymatics/blob/main/Graymatics_Q3.ipynb\" target=\"_parent\"><img src=\"https://colab.research.google.com/assets/colab-badge.svg\" alt=\"Open In Colab\"/></a>"
      ]
    },
    {
      "cell_type": "code",
      "source": [
        "!pip install imageio-ffmpeg\n",
        "!pip install moviepy==1.0.3\n",
        "\n",
        "import cv2\n",
        "import moviepy.editor as mp\n",
        "from google.colab.patches import cv2_imshow"
      ],
      "metadata": {
        "colab": {
          "base_uri": "https://localhost:8080/"
        },
        "id": "v6JTwnQPXRX-",
        "outputId": "9c002a7c-f074-426e-a56c-c3d5c3a02017"
      },
      "execution_count": 3,
      "outputs": [
        {
          "output_type": "stream",
          "name": "stdout",
          "text": [
            "Looking in indexes: https://pypi.org/simple, https://us-python.pkg.dev/colab-wheels/public/simple/\n",
            "Requirement already satisfied: imageio-ffmpeg in /usr/local/lib/python3.9/dist-packages (0.4.8)\n",
            "Looking in indexes: https://pypi.org/simple, https://us-python.pkg.dev/colab-wheels/public/simple/\n",
            "Requirement already satisfied: moviepy==1.0.3 in /usr/local/lib/python3.9/dist-packages (1.0.3)\n",
            "Requirement already satisfied: proglog<=1.0.0 in /usr/local/lib/python3.9/dist-packages (from moviepy==1.0.3) (0.1.10)\n",
            "Requirement already satisfied: numpy in /usr/local/lib/python3.9/dist-packages (from moviepy==1.0.3) (1.22.4)\n",
            "Requirement already satisfied: tqdm<5.0,>=4.11.2 in /usr/local/lib/python3.9/dist-packages (from moviepy==1.0.3) (4.65.0)\n",
            "Requirement already satisfied: imageio<3.0,>=2.5 in /usr/local/lib/python3.9/dist-packages (from moviepy==1.0.3) (2.25.1)\n",
            "Requirement already satisfied: imageio-ffmpeg>=0.2.0 in /usr/local/lib/python3.9/dist-packages (from moviepy==1.0.3) (0.4.8)\n",
            "Requirement already satisfied: decorator<5.0,>=4.0.2 in /usr/local/lib/python3.9/dist-packages (from moviepy==1.0.3) (4.4.2)\n",
            "Requirement already satisfied: requests<3.0,>=2.8.1 in /usr/local/lib/python3.9/dist-packages (from moviepy==1.0.3) (2.27.1)\n",
            "Requirement already satisfied: pillow>=8.3.2 in /usr/local/lib/python3.9/dist-packages (from imageio<3.0,>=2.5->moviepy==1.0.3) (8.4.0)\n",
            "Requirement already satisfied: charset-normalizer~=2.0.0 in /usr/local/lib/python3.9/dist-packages (from requests<3.0,>=2.8.1->moviepy==1.0.3) (2.0.12)\n",
            "Requirement already satisfied: certifi>=2017.4.17 in /usr/local/lib/python3.9/dist-packages (from requests<3.0,>=2.8.1->moviepy==1.0.3) (2022.12.7)\n",
            "Requirement already satisfied: urllib3<1.27,>=1.21.1 in /usr/local/lib/python3.9/dist-packages (from requests<3.0,>=2.8.1->moviepy==1.0.3) (1.26.15)\n",
            "Requirement already satisfied: idna<4,>=2.5 in /usr/local/lib/python3.9/dist-packages (from requests<3.0,>=2.8.1->moviepy==1.0.3) (3.4)\n"
          ]
        }
      ]
    },
    {
      "cell_type": "code",
      "execution_count": 4,
      "metadata": {
        "colab": {
          "base_uri": "https://localhost:8080/"
        },
        "id": "vQXatj_hWb5E",
        "outputId": "6572e1c2-25a9-4e7e-e932-3ff7df2d1cfd"
      },
      "outputs": [
        {
          "output_type": "stream",
          "name": "stdout",
          "text": [
            "Moviepy - Building video modified_video.mp4.\n",
            "MoviePy - Writing audio in modified_videoTEMP_MPY_wvf_snd.mp3\n"
          ]
        },
        {
          "output_type": "stream",
          "name": "stderr",
          "text": []
        },
        {
          "output_type": "stream",
          "name": "stdout",
          "text": [
            "MoviePy - Done.\n",
            "Moviepy - Writing video modified_video.mp4\n",
            "\n"
          ]
        },
        {
          "output_type": "stream",
          "name": "stderr",
          "text": []
        },
        {
          "output_type": "stream",
          "name": "stdout",
          "text": [
            "Moviepy - Done !\n",
            "Moviepy - video ready modified_video.mp4\n"
          ]
        }
      ],
      "source": [
        "clip = mp.VideoFileClip(\"/content/videoplayback.mp4\") \n",
        "clip = clip.subclip(30, 35) \n",
        "clip.write_videofile(\"modified_video.mp4\")"
      ]
    },
    {
      "cell_type": "code",
      "source": [
        "video = cv2.VideoCapture('/content/modified_video.mp4')\n",
        "\n",
        "x = int(video.get(cv2.CAP_PROP_FRAME_WIDTH))\n",
        "y = int(video.get(cv2.CAP_PROP_FRAME_HEIGHT))\n",
        "\n",
        "format = cv2.VideoWriter_fourcc(*'mp4v')\n",
        "writer = cv2.VideoWriter(\"final_output.mp4\", format, 25.0, (x, y))\n",
        "\n",
        "while True:\n",
        "    going, frame = video.read()\n",
        "    if not going:\n",
        "        break\n",
        "    \n",
        "    # Draw a rectangle on the frame\n",
        "    cv2.rectangle(frame, (int((x-50)/2), int((y-50)/2)), (int((x+50)/2), int((y+50)/2)), (0,0,255), 1)\n",
        "    #cv2_imshow(frame)\n",
        "    writer.write(frame)\n",
        "\n",
        "# Release the video file and destroy the window\n",
        "video.release()\n",
        "writer.release()\n",
        "cv2.destroyAllWindows()"
      ],
      "metadata": {
        "id": "LGu8JTCzdQsf"
      },
      "execution_count": 5,
      "outputs": []
    }
  ]
}