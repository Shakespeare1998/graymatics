{
  "nbformat": 4,
  "nbformat_minor": 0,
  "metadata": {
    "colab": {
      "provenance": [],
      "authorship_tag": "ABX9TyOe7l6SG/0ncMX0O8G3gXqr",
      "include_colab_link": true
    },
    "kernelspec": {
      "name": "python3",
      "display_name": "Python 3"
    },
    "language_info": {
      "name": "python"
    }
  },
  "cells": [
    {
      "cell_type": "markdown",
      "metadata": {
        "id": "view-in-github",
        "colab_type": "text"
      },
      "source": [
        "<a href=\"https://colab.research.google.com/github/Shakespeare1998/graymatics/blob/main/Graymatics_Q2.ipynb\" target=\"_parent\"><img src=\"https://colab.research.google.com/assets/colab-badge.svg\" alt=\"Open In Colab\"/></a>"
      ]
    },
    {
      "cell_type": "markdown",
      "source": [
        "#Code"
      ],
      "metadata": {
        "id": "w7JLK8IKVIW3"
      }
    },
    {
      "cell_type": "code",
      "execution_count": 1,
      "metadata": {
        "id": "KLYN4PKARhKk"
      },
      "outputs": [],
      "source": [
        "def brackets(b):\n",
        "  l=[]\n",
        "  for i in b:\n",
        "    if i in ['[', '{', '(']:\n",
        "      l.append(i)\n",
        "    else:\n",
        "      if i == \"}\":\n",
        "        if l[-1]==\"{\":\n",
        "          l.pop(-1)\n",
        "        else:\n",
        "          return False\n",
        "\n",
        "      elif i == \"]\":\n",
        "        if l[-1]==\"[\":\n",
        "          l.pop(-1)\n",
        "        else:\n",
        "          return False\n",
        "      \n",
        "      elif i == \")\":\n",
        "        if l[-1]==\"(\":\n",
        "          l.pop(-1)\n",
        "        else:\n",
        "          return False\n",
        "\n",
        "  if len(l)==0:\n",
        "    return True\n"
      ]
    },
    {
      "cell_type": "markdown",
      "source": [
        "#Testing"
      ],
      "metadata": {
        "id": "c4Vd2tDTVKwq"
      }
    },
    {
      "cell_type": "code",
      "source": [
        "brackets(\"( ) [ ] { } \")"
      ],
      "metadata": {
        "colab": {
          "base_uri": "https://localhost:8080/"
        },
        "id": "0qrwhDkwU5kR",
        "outputId": "741afc13-2472-46c8-b57f-e1dc90d5c354"
      },
      "execution_count": 2,
      "outputs": [
        {
          "output_type": "execute_result",
          "data": {
            "text/plain": [
              "True"
            ]
          },
          "metadata": {},
          "execution_count": 2
        }
      ]
    },
    {
      "cell_type": "code",
      "source": [
        "brackets(\"( [ ) ]\")"
      ],
      "metadata": {
        "colab": {
          "base_uri": "https://localhost:8080/"
        },
        "id": "ITmFIZvXU_Nr",
        "outputId": "256a7c31-b0f2-411a-c870-7e995a7f394d"
      },
      "execution_count": 3,
      "outputs": [
        {
          "output_type": "execute_result",
          "data": {
            "text/plain": [
              "False"
            ]
          },
          "metadata": {},
          "execution_count": 3
        }
      ]
    },
    {
      "cell_type": "code",
      "source": [
        "brackets(\"{ { [] ( } } ) \")"
      ],
      "metadata": {
        "colab": {
          "base_uri": "https://localhost:8080/"
        },
        "id": "KUj-UDYMVGAk",
        "outputId": "24541993-eb86-492e-b8ed-16c1e1196eb3"
      },
      "execution_count": 4,
      "outputs": [
        {
          "output_type": "execute_result",
          "data": {
            "text/plain": [
              "False"
            ]
          },
          "metadata": {},
          "execution_count": 4
        }
      ]
    },
    {
      "cell_type": "code",
      "source": [
        "brackets(\"{ [ ( ) ] }\")"
      ],
      "metadata": {
        "colab": {
          "base_uri": "https://localhost:8080/"
        },
        "id": "IamNWRxYVKrD",
        "outputId": "3e28b1d6-d586-4300-8141-5dd98819c612"
      },
      "execution_count": 5,
      "outputs": [
        {
          "output_type": "execute_result",
          "data": {
            "text/plain": [
              "True"
            ]
          },
          "metadata": {},
          "execution_count": 5
        }
      ]
    }
  ]
}