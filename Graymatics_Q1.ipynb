{
  "nbformat": 4,
  "nbformat_minor": 0,
  "metadata": {
    "colab": {
      "provenance": [],
      "authorship_tag": "ABX9TyP0Te9udve79KOkZCE2EV7S",
      "include_colab_link": true
    },
    "kernelspec": {
      "name": "python3",
      "display_name": "Python 3"
    },
    "language_info": {
      "name": "python"
    }
  },
  "cells": [
    {
      "cell_type": "markdown",
      "metadata": {
        "id": "view-in-github",
        "colab_type": "text"
      },
      "source": [
        "<a href=\"https://colab.research.google.com/github/Shakespeare1998/graymatics/blob/main/Graymatics_Q1.ipynb\" target=\"_parent\"><img src=\"https://colab.research.google.com/assets/colab-badge.svg\" alt=\"Open In Colab\"/></a>"
      ]
    },
    {
      "cell_type": "markdown",
      "source": [
        "#Imports"
      ],
      "metadata": {
        "id": "_nnxIsAbRjFy"
      }
    },
    {
      "cell_type": "code",
      "source": [
        "import numpy as np"
      ],
      "metadata": {
        "id": "gZ914nO9PHzp"
      },
      "execution_count": 1,
      "outputs": []
    },
    {
      "cell_type": "markdown",
      "source": [
        "#Function"
      ],
      "metadata": {
        "id": "073MopK7RmOa"
      }
    },
    {
      "cell_type": "code",
      "execution_count": 2,
      "metadata": {
        "id": "RW7LE0WYwru2"
      },
      "outputs": [],
      "source": [
        "def knapsack(items_list, capacity):\n",
        "\n",
        "  n = len(items_list)\n",
        "  lookup_table = np.zeros((n+1,capacity+1))\n",
        "\n",
        "  for i in range(n):\n",
        "      for w in range(1, capacity+1):\n",
        "          if items_list[i][\"weight\"] > w:\n",
        "              lookup_table[i+1][w] = lookup_table[i][w]\n",
        "          else:\n",
        "              lookup_table[i+1][w] = max(lookup_table[i][w], lookup_table[i][w-items_list[i][\"weight\"]] + items_list[i][\"value\"])\n",
        "\n",
        "  '''selected_items = []\n",
        "  i = n\n",
        "  w = capacity\n",
        "  while i > 0 and w > 0:\n",
        "      if lookup_table[i][w] != lookup_table[i-1][w]:\n",
        "          selected_items.append(items_list[i-1][\"name\"])\n",
        "          w -= items_list[i-1][\"weight\"]\n",
        "      i -= 1\n",
        "   \n",
        "  print(\"Selected items:\", selected_items[::-1])'''\n",
        "  #Uncomment to check the list of items selected\n",
        "\n",
        "  print(\"Maximum value:\", lookup_table[n][capacity])\n"
      ]
    },
    {
      "cell_type": "code",
      "source": [
        "name = \"name\"\n",
        "weight= \"weight\"\n",
        "value = \"value\""
      ],
      "metadata": {
        "id": "c_0tYdLgNUD3"
      },
      "execution_count": 3,
      "outputs": []
    },
    {
      "cell_type": "markdown",
      "source": [
        "#Output"
      ],
      "metadata": {
        "id": "U2x-SGiLTMkm"
      }
    },
    {
      "cell_type": "code",
      "source": [
        "knapsack([{ name:'map', weight:9, value:150 }, { name:'compass', weight:13, value:35 }, { name:'water', weight:153, value:200 }, { name:'sandwich', weight:50, value:160 }, { name:'glucose', weight:15, value:60 }, { name:'tin', weight:68, value:45 }, { name:'banana', weight:27, value:60 }, { name:'apple', weight:39, value:40 }], 100)"
      ],
      "metadata": {
        "colab": {
          "base_uri": "https://localhost:8080/"
        },
        "id": "el5Ow0rGROwB",
        "outputId": "b474b778-17c0-43e7-bcb6-ed98316e6aae"
      },
      "execution_count": 4,
      "outputs": [
        {
          "output_type": "stream",
          "name": "stdout",
          "text": [
            "Maximum value: 405.0\n"
          ]
        }
      ]
    },
    {
      "cell_type": "code",
      "source": [
        "knapsack([{ name:'map', weight:9, value:150 }, { name:'compass', weight:13, value:35 }, { name:'water', weight:153, value:200 }, { name:'sandwich', weight:50, value:160 }, { name:'glucose', weight:15, value:60 }, { name:'tin', weight:68, value:45 }, { name:'banana', weight:27, value:60 }, { name:'apple', weight:39, value:40 }], 200)"
      ],
      "metadata": {
        "colab": {
          "base_uri": "https://localhost:8080/"
        },
        "id": "T2iw7NVLS4sS",
        "outputId": "a034bca5-4d8d-45c5-f9a5-7bcf19ae1706"
      },
      "execution_count": 5,
      "outputs": [
        {
          "output_type": "stream",
          "name": "stdout",
          "text": [
            "Maximum value: 510.0\n"
          ]
        }
      ]
    },
    {
      "cell_type": "code",
      "source": [
        "knapsack([{ name:'cheese', weight:23, value:30 }, { name:'beer', weight:52, value:10 }, { name:'suntan cream', weight:11, value:70 }, { name:'camera', weight:32, value:30 }, { name:'T-shirt', weight:24, value:15 }, { name:'trousers', weight:48, value:10 }, { name:'umbrella', weight:73, value:40 }], 100) "
      ],
      "metadata": {
        "colab": {
          "base_uri": "https://localhost:8080/"
        },
        "id": "5uOIox0lS7-i",
        "outputId": "83007526-5278-4f2e-a765-6c878c0733c9"
      },
      "execution_count": 6,
      "outputs": [
        {
          "output_type": "stream",
          "name": "stdout",
          "text": [
            "Maximum value: 145.0\n"
          ]
        }
      ]
    },
    {
      "cell_type": "code",
      "source": [
        "knapsack([{ name:'cheese', weight:23, value:30 }, { name:'beer', weight:52, value:10 }, { name:'suntan cream', weight:11, value:70 }, { name:'camera', weight:32, value:30 }, { name:'T-shirt', weight:24, value:15 }, { name:'trousers', weight:48, value:10 }, { name:'umbrella', weight:73, value:40 }], 200) "
      ],
      "metadata": {
        "colab": {
          "base_uri": "https://localhost:8080/"
        },
        "id": "21__mSiZS-sI",
        "outputId": "02b79279-c030-424b-c573-0dfa2936d342"
      },
      "execution_count": 7,
      "outputs": [
        {
          "output_type": "stream",
          "name": "stdout",
          "text": [
            "Maximum value: 185.0\n"
          ]
        }
      ]
    },
    {
      "cell_type": "code",
      "source": [
        "knapsack([{ name:'waterproof trousers', weight:42, value:70 }, { name:'waterproof overclothes', weight:43, value:75 }, { name:'note-case', weight:22, value:80 }, { name:'sunglasses', weight:7, value:20 }, { name:'towel', weight:18, value:12 }, { name:'socks', weight:4, value:50 }, { name:'book', weight:30, value:10 }], 100)"
      ],
      "metadata": {
        "colab": {
          "base_uri": "https://localhost:8080/"
        },
        "id": "e8-LOvGkTCIo",
        "outputId": "3f19c394-567b-401e-e02b-27bddd82cafc"
      },
      "execution_count": 8,
      "outputs": [
        {
          "output_type": "stream",
          "name": "stdout",
          "text": [
            "Maximum value: 237.0\n"
          ]
        }
      ]
    },
    {
      "cell_type": "code",
      "source": [
        "knapsack([{ name:'waterproof trousers', weight:42, value:70 }, { name:'waterproof overclothes', weight:43, value:75 }, { name:'note-case', weight:22, value:80 }, { name:'sunglasses', weight:7, value:20 }, { name:'towel', weight:18, value:12 }, { name:'socks', weight:4, value:50 }, { name:'book', weight:30, value:10 }], 200)"
      ],
      "metadata": {
        "colab": {
          "base_uri": "https://localhost:8080/"
        },
        "id": "zomgfYIATEax",
        "outputId": "c74b2a08-f0f1-4cda-cf63-c734d89aa86d"
      },
      "execution_count": 9,
      "outputs": [
        {
          "output_type": "stream",
          "name": "stdout",
          "text": [
            "Maximum value: 317.0\n"
          ]
        }
      ]
    }
  ]
}