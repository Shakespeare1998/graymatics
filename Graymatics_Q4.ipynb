{
  "nbformat": 4,
  "nbformat_minor": 0,
  "metadata": {
    "colab": {
      "provenance": [],
      "authorship_tag": "ABX9TyNeEdg0B3YNMuyO7u7YtDQN",
      "include_colab_link": true
    },
    "kernelspec": {
      "name": "python3",
      "display_name": "Python 3"
    },
    "language_info": {
      "name": "python"
    }
  },
  "cells": [
    {
      "cell_type": "markdown",
      "metadata": {
        "id": "view-in-github",
        "colab_type": "text"
      },
      "source": [
        "<a href=\"https://colab.research.google.com/github/Shakespeare1998/graymatics/blob/main/Graymatics_Q4.ipynb\" target=\"_parent\"><img src=\"https://colab.research.google.com/assets/colab-badge.svg\" alt=\"Open In Colab\"/></a>"
      ]
    },
    {
      "cell_type": "markdown",
      "source": [
        "#Download the Model File"
      ],
      "metadata": {
        "id": "jriN4NFsCa_C"
      }
    },
    {
      "cell_type": "code",
      "source": [
        "!wget \"https://storage.googleapis.com/download.tensorflow.org/models/inception_v3_2016_08_28_frozen.pb.tar.gz\"\n",
        "!tar zxvf inception_v3_2016_08_28_frozen.pb.tar.gz"
      ],
      "metadata": {
        "colab": {
          "base_uri": "https://localhost:8080/"
        },
        "id": "JL-bc4kW6YIH",
        "outputId": "11c44b59-7d06-475d-c38d-c73aba776c92"
      },
      "execution_count": 1,
      "outputs": [
        {
          "output_type": "stream",
          "name": "stdout",
          "text": [
            "--2023-03-21 21:37:27--  https://storage.googleapis.com/download.tensorflow.org/models/inception_v3_2016_08_28_frozen.pb.tar.gz\n",
            "Resolving storage.googleapis.com (storage.googleapis.com)... 173.194.197.128, 173.194.192.128, 209.85.146.128, ...\n",
            "Connecting to storage.googleapis.com (storage.googleapis.com)|173.194.197.128|:443... connected.\n",
            "HTTP request sent, awaiting response... 200 OK\n",
            "Length: 88668554 (85M) [application/gzip]\n",
            "Saving to: ‘inception_v3_2016_08_28_frozen.pb.tar.gz’\n",
            "\n",
            "inception_v3_2016_0 100%[===================>]  84.56M  41.8MB/s    in 2.0s    \n",
            "\n",
            "2023-03-21 21:37:29 (41.8 MB/s) - ‘inception_v3_2016_08_28_frozen.pb.tar.gz’ saved [88668554/88668554]\n",
            "\n",
            "inception_v3_2016_08_28_frozen.pb\n",
            "imagenet_slim_labels.txt\n"
          ]
        }
      ]
    },
    {
      "cell_type": "markdown",
      "source": [
        "#Model Graph and Image Tensor"
      ],
      "metadata": {
        "id": "buSCDodVCgI1"
      }
    },
    {
      "cell_type": "code",
      "source": [
        "import argparse\n",
        "import os\n",
        "from os import listdir\n",
        "import numpy as np\n",
        "import tensorflow as tf\n",
        "import cv2\n",
        "\n",
        "\n",
        "def load_graph(model_file):\n",
        "  graph = tf.Graph()\n",
        "  graph_def = tf.compat.v1.GraphDef()\n",
        "\n",
        "  with open(model_file, \"rb\") as f:\n",
        "    graph_def.ParseFromString(f.read())\n",
        "  with graph.as_default():\n",
        "    tf.import_graph_def(graph_def)\n",
        "\n",
        "  return graph\n",
        "\n",
        "\n",
        "def read_tensor_from_image_file(file_name,\n",
        "                                input_height=360,\n",
        "                                input_width=640,\n",
        "                                input_mean=0,\n",
        "                                input_std=255):\n",
        "  tf.compat.v1.disable_v2_behavior()\n",
        "  input_name = \"file_reader\"\n",
        "  output_name = \"normalized\"\n",
        "  file_reader = tf.io.read_file(file_name, input_name)\n",
        "  if file_name.endswith(\".png\"):\n",
        "    image_reader = tf.io.decode_png(file_reader, channels=3, name=\"png_reader\")\n",
        "  elif file_name.endswith(\".gif\"):\n",
        "    image_reader = tf.squeeze(tf.io.decode_gif(file_reader, name=\"gif_reader\"))\n",
        "  elif file_name.endswith(\".bmp\"):\n",
        "    image_reader = tf.io.decode_bmp(file_reader, name=\"bmp_reader\")\n",
        "  else:\n",
        "    image_reader = tf.io.decode_jpeg(\n",
        "        file_reader, channels=3, name=\"jpeg_reader\")\n",
        "  float_caster = tf.cast(image_reader, tf.float32)\n",
        "  dims_expander = tf.expand_dims(float_caster, 0)\n",
        "  resized = tf.compat.v1.image.resize_bilinear(dims_expander, [input_height, input_width])\n",
        "  normalized = tf.divide(tf.subtract(resized, [input_mean]), [input_std])\n",
        "  sess = tf.compat.v1.Session()\n",
        "  return sess.run(normalized)\n",
        "\n",
        "\n",
        "def load_labels(label_file):\n",
        "  proto_as_ascii_lines = tf.io.gfile.GFile(label_file).readlines()\n",
        "  return [l.rstrip() for l in proto_as_ascii_lines]\n"
      ],
      "metadata": {
        "id": "DvhTdpqP5nBY"
      },
      "execution_count": 2,
      "outputs": []
    },
    {
      "cell_type": "markdown",
      "source": [
        "#Frame Extractor"
      ],
      "metadata": {
        "id": "cVqh6TAsGR-o"
      }
    },
    {
      "cell_type": "code",
      "source": [
        "!mkdir Frames"
      ],
      "metadata": {
        "id": "YP4RasfGbYic"
      },
      "execution_count": 3,
      "outputs": []
    },
    {
      "cell_type": "code",
      "source": [
        "model_file = \\\n",
        "    \"/content/inception_v3_2016_08_28_frozen.pb\"\n",
        "label_file = \"/content/imagenet_slim_labels.txt\"\n",
        "input_height = 299\n",
        "input_width = 299\n",
        "input_mean = 0\n",
        "input_std = 255\n",
        "input_layer = \"input\"\n",
        "output_layer = \"InceptionV3/Predictions/Reshape_1\"\n",
        "\n",
        "video = cv2.VideoCapture('/content/modified_video.mp4')\n",
        "\n",
        "x = int(video.get(cv2.CAP_PROP_FRAME_WIDTH))\n",
        "y = int(video.get(cv2.CAP_PROP_FRAME_HEIGHT))\n",
        "\n",
        "#format = cv2.VideoWriter_fourcc(*'mp4v')\n",
        "#writer = cv2.VideoWriter(\"final_output.mp4\", format, 25.0, (x, y))\n",
        "j=0\n",
        "\n",
        "while True:\n",
        "    # Read a frame from the video\n",
        "  going, frame = video.read()\n",
        "  if not going:\n",
        "        break\n",
        "\n",
        "  frame = frame[30:329, 170:469]\n",
        "  cv2.imwrite(\"/content/Frames/Frame\"+ str(j).zfill(7)+\".jpg\", frame) \n",
        "  j+=1 \n",
        "print(j)"
      ],
      "metadata": {
        "colab": {
          "base_uri": "https://localhost:8080/"
        },
        "id": "CagEyZ9I6p5q",
        "outputId": "e016df32-ba17-4f8c-9df1-32291615340b"
      },
      "execution_count": 4,
      "outputs": [
        {
          "output_type": "stream",
          "name": "stdout",
          "text": [
            "1500\n"
          ]
        }
      ]
    },
    {
      "cell_type": "markdown",
      "source": [
        "#Alternate Frames"
      ],
      "metadata": {
        "id": "nxFL1_tIGV2y"
      }
    },
    {
      "cell_type": "code",
      "source": [
        "#try:\n",
        "format = cv2.VideoWriter_fourcc(*'mp4v')\n",
        "writer = cv2.VideoWriter(\"final_output_2nd.mp4\", format, 25.0, (299, 299))\n",
        "for i in range(0,j-1,2):\n",
        "\n",
        "    #print(ims)\n",
        "    #if ims.endswith(\".jpg\"):\n",
        "    ims = \"Frame\"+str(i).zfill(7) +\".jpg\"\n",
        "    ims2 = \"Frame\"+str(i+1).zfill(7) +\".jpg\"\n",
        "    \n",
        "    #print(ims)\n",
        "    image = cv2.imread(\"/content/Frames/\"+ims)\n",
        "    image_sec = cv2.imread(\"/content/Frames/\"+ims2)\n",
        "\n",
        "    file_name = \"/content/Frames/\"+ims\n",
        "    model_file = \\\n",
        "      \"/content/inception_v3_2016_08_28_frozen.pb\"\n",
        "    label_file = \"/content/imagenet_slim_labels.txt\"\n",
        "    input_height = 299\n",
        "    input_width = 299\n",
        "    input_mean = 0\n",
        "    input_std = 255\n",
        "    input_layer = \"input\"\n",
        "    output_layer = \"InceptionV3/Predictions/Reshape_1\"\n",
        "    \n",
        "    graph = load_graph(model_file)\n",
        "    t = read_tensor_from_image_file(\n",
        "        file_name,\n",
        "        input_height=input_height,\n",
        "        input_width=input_width,\n",
        "        input_mean=input_mean,\n",
        "        input_std=input_std)\n",
        "\n",
        "    input_name = \"import/\" + input_layer\n",
        "    output_name = \"import/\" + output_layer\n",
        "    input_operation = graph.get_operation_by_name(input_name)\n",
        "    output_operation = graph.get_operation_by_name(output_name)\n",
        "\n",
        "    with tf.compat.v1.Session(graph=graph) as sess:\n",
        "      results = sess.run(output_operation.outputs[0], {\n",
        "          input_operation.outputs[0]: t\n",
        "      })\n",
        "    results = np.squeeze(results)\n",
        "\n",
        "    top_k = results.argsort()[-1:][::-1]\n",
        "    labels = load_labels(label_file)\n",
        "    for i in top_k:\n",
        "      text = labels[i] + str(results[i])\n",
        "      print(text)\n",
        "      if results[i]>0.8:\n",
        "        color = (0,255,0)\n",
        "      else:\n",
        "        color = (0,0,255)\n",
        "    #print(labels[1]+str(results[1]))\n",
        "    \n",
        "    #text = labels[1]+ str(results[1])\n",
        "    \n",
        "    image_updated = cv2.putText(image, text, (10,290), cv2.FONT_HERSHEY_SIMPLEX, 0.5, color, 2)\n",
        "    image_updated2 = cv2.putText(image_sec, text, (10,290), cv2.FONT_HERSHEY_SIMPLEX, 0.5, color, 2)\n",
        "    cv2.imwrite(\"/content/Frames/\"+ims, image_updated)\n",
        "    cv2.imwrite(\"/content/Frames/\"+ims2, image_updated2)\n",
        "    writer.write(image_updated)\n",
        "    writer.write(image_updated2)\n",
        "\n",
        "video.release()\n",
        "writer.release()\n",
        "cv2.destroyAllWindows()\n",
        "#except:\n",
        "#    print(\"\")"
      ],
      "metadata": {
        "id": "stjaQtY0XG4Z"
      },
      "execution_count": null,
      "outputs": []
    },
    {
      "cell_type": "markdown",
      "source": [
        "#Every 4th Frame"
      ],
      "metadata": {
        "id": "hO5NAQq3GZ9u"
      }
    },
    {
      "cell_type": "code",
      "source": [
        "model_file = \\\n",
        "    \"/content/inception_v3_2016_08_28_frozen.pb\"\n",
        "label_file = \"/content/imagenet_slim_labels.txt\"\n",
        "input_height = 299\n",
        "input_width = 299\n",
        "input_mean = 0\n",
        "input_std = 255\n",
        "input_layer = \"input\"\n",
        "output_layer = \"InceptionV3/Predictions/Reshape_1\"\n",
        "\n",
        "video = cv2.VideoCapture('/content/modified_video.mp4')\n",
        "\n",
        "x = int(video.get(cv2.CAP_PROP_FRAME_WIDTH))\n",
        "y = int(video.get(cv2.CAP_PROP_FRAME_HEIGHT))\n",
        "\n",
        "#format = cv2.VideoWriter_fourcc(*'mp4v')\n",
        "#writer = cv2.VideoWriter(\"final_output.mp4\", format, 25.0, (x, y))\n",
        "j=0\n",
        "\n",
        "while True:\n",
        "    # Read a frame from the video\n",
        "  going, frame = video.read()\n",
        "  if not going:\n",
        "        break\n",
        "\n",
        "  frame = frame[30:329, 170:469]\n",
        "  cv2.imwrite(\"/content/Frames/Frame\"+ str(j).zfill(7)+\".jpg\", frame) \n",
        "  j+=1 \n",
        "print(j)"
      ],
      "metadata": {
        "colab": {
          "base_uri": "https://localhost:8080/"
        },
        "id": "uxBSzvdVGmIu",
        "outputId": "8521d2fb-ed7b-4332-c29f-ad9bf70a98e7"
      },
      "execution_count": 6,
      "outputs": [
        {
          "output_type": "stream",
          "name": "stdout",
          "text": [
            "1500\n"
          ]
        }
      ]
    },
    {
      "cell_type": "code",
      "source": [
        "#try:\n",
        "format = cv2.VideoWriter_fourcc(*'mp4v')\n",
        "writer = cv2.VideoWriter(\"final_output_4th.mp4\", format, 25.0, (299, 299))\n",
        "for i in range(0,j,4):\n",
        "\n",
        "    #print(ims)\n",
        "    #if ims.endswith(\".jpg\"):\n",
        "    ims = \"Frame\"+str(i).zfill(7) +\".jpg\"\n",
        "    ims2 = \"Frame\"+str(i+1).zfill(7) +\".jpg\"\n",
        "    ims3 = \"Frame\"+str(i+2).zfill(7) +\".jpg\"\n",
        "    ims4 = \"Frame\"+str(i+3).zfill(7) +\".jpg\"\n",
        "    \n",
        "    #print(ims)\n",
        "    image = cv2.imread(\"/content/Frames/\"+ims)\n",
        "    image_sec = cv2.imread(\"/content/Frames/\"+ims2)\n",
        "    image_third = cv2.imread(\"/content/Frames/\"+ims3)\n",
        "    image_4 = cv2.imread(\"/content/Frames/\"+ims4)\n",
        "\n",
        "    file_name = \"/content/Frames/\"+ims\n",
        "    model_file = \\\n",
        "      \"/content/inception_v3_2016_08_28_frozen.pb\"\n",
        "    label_file = \"/content/imagenet_slim_labels.txt\"\n",
        "    input_height = 299\n",
        "    input_width = 299\n",
        "    input_mean = 0\n",
        "    input_std = 255\n",
        "    input_layer = \"input\"\n",
        "    output_layer = \"InceptionV3/Predictions/Reshape_1\"\n",
        "    \n",
        "    graph = load_graph(model_file)\n",
        "    t = read_tensor_from_image_file(\n",
        "        file_name,\n",
        "        input_height=input_height,\n",
        "        input_width=input_width,\n",
        "        input_mean=input_mean,\n",
        "        input_std=input_std)\n",
        "\n",
        "    input_name = \"import/\" + input_layer\n",
        "    output_name = \"import/\" + output_layer\n",
        "    input_operation = graph.get_operation_by_name(input_name)\n",
        "    output_operation = graph.get_operation_by_name(output_name)\n",
        "\n",
        "    with tf.compat.v1.Session(graph=graph) as sess:\n",
        "      results = sess.run(output_operation.outputs[0], {\n",
        "          input_operation.outputs[0]: t\n",
        "      })\n",
        "    results = np.squeeze(results)\n",
        "\n",
        "    top_k = results.argsort()[-1:][::-1]\n",
        "    labels = load_labels(label_file)\n",
        "    for i in top_k:\n",
        "      text = labels[i] + str(results[i])\n",
        "      print(text)\n",
        "      if results[i]>0.8:\n",
        "        color = (0,255,0)\n",
        "      else:\n",
        "        color = (0,0,255)\n",
        "    #print(labels[1]+str(results[1]))\n",
        "    \n",
        "    #text = labels[1]+ str(results[1])\n",
        "    \n",
        "    image_updated = cv2.putText(image, text, (10,290), cv2.FONT_HERSHEY_SIMPLEX, 0.5, color, 2)\n",
        "    image_updated2 = cv2.putText(image_sec, text, (10,290), cv2.FONT_HERSHEY_SIMPLEX, 0.5, color, 2)\n",
        "    image_updated3 = cv2.putText(image_third, text, (10,290), cv2.FONT_HERSHEY_SIMPLEX, 0.5, color, 2)\n",
        "    image_updated4 = cv2.putText(image_4, text, (10,290), cv2.FONT_HERSHEY_SIMPLEX, 0.5, color, 2)\n",
        "    cv2.imwrite(\"/content/Frames/\"+ims, image_updated)\n",
        "    cv2.imwrite(\"/content/Frames/\"+ims2, image_updated2)\n",
        "    cv2.imwrite(\"/content/Frames/\"+ims3, image_updated3)\n",
        "    cv2.imwrite(\"/content/Frames/\"+ims4, image_updated4)\n",
        "    writer.write(image_updated)\n",
        "    writer.write(image_updated2)\n",
        "    writer.write(image_updated3)\n",
        "    writer.write(image_updated4)\n",
        "\n",
        "video.release()\n",
        "writer.release()\n",
        "cv2.destroyAllWindows()\n",
        "#except:\n",
        "#    print(\"\")"
      ],
      "metadata": {
        "id": "FRAR3uxS2Pvs"
      },
      "execution_count": null,
      "outputs": []
    }
  ]
}